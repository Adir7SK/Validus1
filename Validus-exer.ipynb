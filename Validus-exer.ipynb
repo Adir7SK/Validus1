{
 "cells": [
  {
   "cell_type": "markdown",
   "metadata": {},
   "source": [
    "# Quantitative Research Case Study\n",
    "\n",
    "Looking at a binomial model, we consider discrete time periods with two optional moves at each period. The move up and down is also equal. Given this information, we know that it is an arbitrage-free and complete market. Hence, we can use risk-neutral probability measures to compute option prices. We also notice that since the percentage of which the value of the underlying asset goes up/down at each time period is equal, then the theoretical risk-neutral probability will also be equal (i.e. 0.5)."
   ]
  },
  {
   "cell_type": "code",
   "execution_count": 2,
   "metadata": {},
   "outputs": [
    {
     "name": "stdout",
     "output_type": "stream",
     "text": [
      "The European Call option's price is:  0.02563\n"
     ]
    }
   ],
   "source": [
    "import math\n",
    "\n",
    "def combos(n, i):\n",
    "    return math.factorial(n) / (math.factorial(n-i)*math.factorial(i))\n",
    "\n",
    "def risk_neutral_probabilities(N):    \n",
    "    p = 0.5\n",
    "    q = list()\n",
    "    for k in reversed(range(N+1)):\n",
    "        q.append(combos(N, k)*p**k *(1-p)**(N-k))\n",
    "        return q\n",
    "\n",
    "def eurpoean_option_price(v, k, N):\n",
    "    if N < 1: raise ValueError(\"N is incurrect.\")\n",
    "    if type(v) != float or v >= 1 or v <= 0: raise ValueError(\"v is incurrect.\")\n",
    "    if (type(k) != float and type(k) != int) or type(N) != int: raise TypeError(\"Strike or number of periods is from wrong data type.\")\n",
    "    termination_price = list()\n",
    "    current = (1+v)**N\n",
    "    last = (1-v)**N\n",
    "    while current > k:\n",
    "        termination_price.append(current - k)\n",
    "        if current == last: break\n",
    "        current = (current / (1+v)) * (1-v)\n",
    "    q = risk_neutral_probabilities(N)\n",
    "    return sum([termination_price[i] * q[i] for i in range(len(termination_price))])\n",
    "\n",
    "# Please insert the input values below\n",
    "v = 0.05\n",
    "strike = 1\n",
    "N = 2\n",
    "print(\"The European Call option's price is: \", round(eurpoean_option_price(v, strike, N), 5))"
   ]
  },
  {
   "cell_type": "markdown",
   "metadata": {},
   "source": [
    "We can reliably build our next function based on the current one. Our approach is minimizing the difference between the call option's input value and the computed call option's value by our function. Our function then becomes a function of v, which we will change\\tune correspondingly, to minimize the difference between the function's value and the given option's value. We don't even need to validate the input values, since this is already done by our previous function, which is called in the following implementation."
   ]
  },
  {
   "cell_type": "code",
   "execution_count": 3,
   "metadata": {},
   "outputs": [
    {
     "name": "stdout",
     "output_type": "stream",
     "text": [
      "The corresponding value of v is:  0.05\n"
     ]
    }
   ],
   "source": [
    "def find_v(V, k, N):\n",
    "    v = 0.5\n",
    "    low = 0.0\n",
    "    high = 1.0\n",
    "    runs = 0\n",
    "    while abs(V - eurpoean_option_price(v, k, N)) > 0.000001:\n",
    "        if runs > 10000: break\n",
    "        if eurpoean_option_price(v, k, N) > V:\n",
    "            high = v\n",
    "            v = (v + low) / 2\n",
    "        else:\n",
    "            low = V\n",
    "            v = (v + high) / 2\n",
    "        runs += 1\n",
    "    return v\n",
    "\n",
    "# Please insert the input values below\n",
    "V = 0.02563\n",
    "strike = 1\n",
    "N = 2\n",
    "print(\"The corresponding value of v is: \", round(find_v(V, strike, N), 4))"
   ]
  },
  {
   "cell_type": "markdown",
   "metadata": {},
   "source": [
    "This part we are going to implement in a different way, which calculates each relevant node, until we get the value of the first node, which is the option's value."
   ]
  },
  {
   "cell_type": "code",
   "execution_count": 4,
   "metadata": {},
   "outputs": [
    {
     "name": "stdout",
     "output_type": "stream",
     "text": [
      "The European Call option's price is:  0.02563\n"
     ]
    }
   ],
   "source": [
    "import numpy as np\n",
    "\n",
    "def american_call_pricing(v, k, N):\n",
    "    u, d = 1+v, 1-v\n",
    "    payoff = np.zeros(N+1)\n",
    "    for j in range(N+1):\n",
    "        payoff[j] = max(u**j * d**(N-j) - 1, 0)\n",
    "    \n",
    "    for i in np.arange(N-1, -1, -1):\n",
    "        for j in range(0, i+1):\n",
    "            S = u**j * d**(N-j)\n",
    "            payoff[j] = max((payoff[j] + payoff[j+1])/2, S - k)\n",
    "            \n",
    "    return payoff[0]\n",
    "\n",
    "            \n",
    "# Please insert the input values below\n",
    "v = 0.05\n",
    "strike = 1\n",
    "N = 2\n",
    "print(\"The European Call option's price is: \", round(american_call_pricing(v, strike, N), 5))"
   ]
  },
  {
   "cell_type": "markdown",
   "metadata": {},
   "source": [
    "Here, given v, we will calculate the expected value of the maximum value of the underlying asset between the periods 0 and N. Mathematically speaking, we will compute:\n",
    "\n",
    "$$ E[max_{0<j<N}S_j | v] $$"
   ]
  },
  {
   "cell_type": "code",
   "execution_count": 5,
   "metadata": {},
   "outputs": [
    {
     "name": "stdout",
     "output_type": "stream",
     "text": [
      "1.1664\n"
     ]
    }
   ],
   "source": [
    "def expected_maximum(v, N):\n",
    "    max_S = (1+v)**N\n",
    "    return np.mean(max_S)\n",
    "\n",
    "print(expected_maximum(0.08, 2))"
   ]
  },
  {
   "cell_type": "code",
   "execution_count": null,
   "metadata": {},
   "outputs": [],
   "source": []
  }
 ],
 "metadata": {
  "kernelspec": {
   "display_name": "Python 3.6.5 32-bit",
   "language": "python",
   "name": "python3"
  },
  "language_info": {
   "codemirror_mode": {
    "name": "ipython",
    "version": 3
   },
   "file_extension": ".py",
   "mimetype": "text/x-python",
   "name": "python",
   "nbconvert_exporter": "python",
   "pygments_lexer": "ipython3",
   "version": "3.6.5"
  },
  "orig_nbformat": 4,
  "vscode": {
   "interpreter": {
    "hash": "0418255df37db9dc3bcee84d6f5515155d4e9df1b6eebb20e0eca816391be6ba"
   }
  }
 },
 "nbformat": 4,
 "nbformat_minor": 2
}
